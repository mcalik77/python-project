{
 "cells": [
  {
   "cell_type": "code",
   "execution_count": 8,
   "metadata": {},
   "outputs": [
    {
     "name": "stdout",
     "output_type": "stream",
     "text": [
      "this is my string\n"
     ]
    }
   ],
   "source": [
    "my_string = 'THIS IS MY STRING'\n",
    "#my_second_string = 'fsadykov'\n",
    "#city = 'london'\n",
    "#fix = city.capitalize()\n",
    "print(my_string.lower())\n",
    "#dir(my_second_string)\n",
    "#print(my_second_string.capitalize())"
   ]
  },
  {
   "cell_type": "code",
   "execution_count": 9,
   "metadata": {},
   "outputs": [
    {
     "name": "stdout",
     "output_type": "stream",
     "text": [
      "iThis sThis  \n"
     ]
    }
   ],
   "source": [
    "word1 = 'This '\n",
    "word2 = 'is '\n",
    "word3 = 'String'\n",
    "total = word1.join(word2)\n",
    "print(total)"
   ]
  },
  {
   "cell_type": "code",
   "execution_count": null,
   "metadata": {},
   "outputs": [],
   "source": []
  }
 ],
 "metadata": {
  "kernelspec": {
   "display_name": "Python 3",
   "language": "python",
   "name": "python3"
  },
  "language_info": {
   "codemirror_mode": {
    "name": "ipython",
    "version": 3
   },
   "file_extension": ".py",
   "mimetype": "text/x-python",
   "name": "python",
   "nbconvert_exporter": "python",
   "pygments_lexer": "ipython3",
   "version": "3.6.5"
  }
 },
 "nbformat": 4,
 "nbformat_minor": 2
}
